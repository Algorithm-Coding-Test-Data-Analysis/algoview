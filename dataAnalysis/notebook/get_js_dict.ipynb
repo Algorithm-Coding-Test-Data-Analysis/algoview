{
 "cells": [
  {
   "cell_type": "code",
   "execution_count": null,
   "metadata": {
    "executionInfo": {
     "elapsed": 373,
     "status": "ok",
     "timestamp": 1686020303050,
     "user": {
      "displayName": "정서영",
      "userId": "09409242622409611339"
     },
     "user_tz": -540
    },
    "id": "T-sIwXbOb9tV"
   },
   "outputs": [],
   "source": [
    "from visualize_data import json_to_dataframe\n",
    "import re\n",
    "import pandas as pd\n",
    "import numpy as np"
   ]
  },
  {
   "cell_type": "code",
   "execution_count": null,
   "metadata": {},
   "outputs": [],
   "source": [
    "df = json_to_dataframe(\"js\")"
   ]
  },
  {
   "cell_type": "code",
   "execution_count": null,
   "metadata": {
    "id": "GrMPDOLDdeUm"
   },
   "outputs": [],
   "source": [
    "# 레벨별\n",
    "\n",
    "def multi_index_to_dict(data):\n",
    "    temp_dict = dict()\n",
    "    for (index_1,index_2), value in data.items():\n",
    "        if index_1 not in temp_dict:\n",
    "            temp_dict[index_1] = {}\n",
    "        temp_dict[index_1][index_2]  = value\n",
    "    return temp_dict\n",
    "\n",
    "\n",
    "def get_level_dict(dataframe):\n",
    "    \n",
    "    # 레벨별 문제 수\n",
    "    temp_df = df.copy()\n",
    "    temp_df[\"problem_name\"] = temp_df[\"problem_name\"].apply(lambda x: re.sub(\"\\(1\\)|\\s\", \"\", x))\n",
    "    temp_df = temp_df.groupby(\"level\")[\"problem_name\"].nunique()\n",
    "    level_pname = temp_df.to_dict()\n",
    "\n",
    "    # 레벨별 고유한 문제 유형 개수\n",
    "    temp_df = df.copy()\n",
    "    temp_df[\"problem_type\"] = temp_df[\"problem_type\"].apply(lambda x: re.sub(\"\\(1\\)|\\s\", \"\", x))\n",
    "    temp_df = temp_df.groupby(\"level\")[\"problem_type\"].nunique()\n",
    "    level_ptype = temp_df.to_dict()\n",
    "    \n",
    "    #레벨멸 메소드 이용 수, distinct value\n",
    "    temp_df = df.copy()\n",
    "    temp_df[\"file_name\"] = temp_df[\"file_name\"].apply(lambda x: re.sub(\"\\s\", \"\", x))\n",
    "    temp_df[\"problem_type\"] = temp_df[\"problem_type\"].apply(lambda x: re.sub(\"\\(1\\)|\\s\", \"\", x))\n",
    "    temp_df = temp_df.groupby([\"level\",\"problem_type\"])[\"file_name\"].nunique()\n",
    "    level_dcnt_method = multi_index_to_dict(temp_df)\n",
    "    \n",
    "    # 레벨별 메소드 이용수, 누적\n",
    "    temp_df = df.groupby(['level','function_method'])['countmethod'].sum()\n",
    "    level_cnt_method = multi_index_to_dict(temp_df)\n",
    "\n",
    "    # 메소드 이용 현황, 누적 값\n",
    "    method_cnt = df.groupby(\"function_method\")[\"countmethod\"].sum().sort_values(ascending = False).to_dict()\n",
    "    \n",
    "    return level_pname, level_ptype, level_dcnt_method, level_cnt_method, method_cnt\n",
    "\n"
   ]
  },
  {
   "cell_type": "code",
   "execution_count": null,
   "metadata": {
    "id": "euVUYt59erTK",
    "tags": []
   },
   "outputs": [],
   "source": [
    "# 연도별\n",
    "\n"
   ]
  },
  {
   "cell_type": "code",
   "execution_count": null,
   "metadata": {
    "id": "gnpqA1Zde4rb"
   },
   "outputs": [],
   "source": [
    "# 출제업체별\n",
    "\n"
   ]
  },
  {
   "cell_type": "code",
   "execution_count": null,
   "metadata": {
    "executionInfo": {
     "elapsed": 343,
     "status": "ok",
     "timestamp": 1686019433834,
     "user": {
      "displayName": "정서영",
      "userId": "09409242622409611339"
     },
     "user_tz": -540
    },
    "id": "Dth4hJBOe5yq"
   },
   "outputs": [],
   "source": [
    "# 문제유형별\n",
    "def get_ptype_dict(df):\n",
    "    '''\n",
    "    JavaScript 문제의 문제유형별 문제 수를 카운트하는 함수입니다.\n",
    "    JavaScript 문제의 문제유형마다 사용된 메소드별 횟수를 카운트하는 함수입니다.\n",
    "    '''\n",
    "\n",
    "    # 문제의 문제유형별 문제 수\n",
    "\n",
    "    temp_df = df.copy()\n",
    "    temp_df = temp_df.drop_duplicates(['file_name'], keep='first')\n",
    "    temp_df = temp_df['problem_type'].value_counts().to_frame()\n",
    "\n",
    "    ptype_name = temp_df.to_dict()[\"problem_type\"]\n",
    "\n",
    "\n",
    "    # 문제유형별 사용된 메소드별 횟수\n",
    "    temp_df = df.copy()\n",
    "    temp_df = temp_df[temp_df[\"function_method\"] != 0]\n",
    "    temp_df = temp_df.groupby(['problem_type', 'function_method'], as_index=False)['countmethod'].sum()\n",
    "    temp_df = temp_df.pivot(index='problem_type', columns='function_method', values='countmethod')\n",
    "\n",
    "    ptype_method = temp_df.to_dict()\n",
    "    \n",
    "    return ptype_name, ptype_method"
   ]
  },
  {
   "cell_type": "code",
   "execution_count": null,
   "metadata": {
    "id": "HDglsK3Me9Rz"
   },
   "outputs": [],
   "source": [
    "# 메소드_모듈별\n",
    "\n"
   ]
  },
  {
   "cell_type": "code",
   "execution_count": null,
   "metadata": {
    "executionInfo": {
     "elapsed": 349,
     "status": "ok",
     "timestamp": 1686019657421,
     "user": {
      "displayName": "정서영",
      "userId": "09409242622409611339"
     },
     "user_tz": -540
    },
    "id": "fS4Wc0hOfEgG"
   },
   "outputs": [],
   "source": [
    "# 전체 데이터 저장하는 모듈\n",
    "\n",
    "def get_dict(df):\n",
    "    '''\n",
    "    JavaScript 문제의 전체 데이터를 dictionary 형태로 변환하여 반환하는 함수입니다.\n",
    "    '''    \n",
    "\n",
    "    # 전체 데이터 저장할 딕셔너리\n",
    "    temp_dict = {}\n",
    "    \n",
    "    # 딕셔너리에 파트별 데이터 삽입\n",
    "    \n",
    "    level_pname, level_ptype, level_dcnt_method, level_cnt_method, method_cnt = get_level_dict(df)  # 레벨별 & 전체적인 메서드 사용 현황\n",
    "    ptype_name, ptype_method = get_ptype_dict(df)  # 문제유형별\n",
    "\n",
    "    # level 별\n",
    "    temp_dict['level_pname'] = level_pname\n",
    "    temp_dict['level_ptype'] = level_ptype\n",
    "    temp_dict['level_dcnt_method'] = level_dcnt_method\n",
    "    temp_dict['level_cnt_method'] = level_cnt_method\n",
    "    temp_dict['method_cnt'] = method_cnt\n",
    "\n",
    "    # 문제유형별\n",
    "    temp_dict['ptype_name'] = ptype_name\n",
    "    temp_dict['ptype_method'] = ptype_method\n",
    "    \n",
    "    return temp_dict"
   ]
  },
  {
   "cell_type": "code",
   "execution_count": null,
   "metadata": {
    "colab": {
     "base_uri": "https://localhost:8080/"
    },
    "executionInfo": {
     "elapsed": 1571,
     "status": "ok",
     "timestamp": 1686019659718,
     "user": {
      "displayName": "정서영",
      "userId": "09409242622409611339"
     },
     "user_tz": -540
    },
    "id": "NKapP37UmHrJ",
    "outputId": "3cae296e-98fb-44fa-c681-b6a73bc9a958"
   },
   "outputs": [],
   "source": [
    "# main.py 에서 실행될 코드\n",
    "\n",
    "# Standard library import\n",
    "import json\n",
    "\n",
    "# Local application library\n",
    "from visualize_data import json_to_dataframe\n",
    "from visualize_data import py\n",
    "from visualize_data import js\n",
    "\n",
    "py_df = json_to_dataframe('py')\n",
    "js_df = json_to_dataframe('js')\n",
    "\n",
    "temp_dict = {}\n",
    "temp_dict['py'] = py.get_dict(py_df) # py.py 모듈의 get_dict\n",
    "temp_dict['js'] = js.get_dict(js_df) # js.py 모듈의 get_dict\n",
    "\n",
    "with open(\"chart_data.json\", \"w\", encoding=\"utf-8\") as f:\n",
    "    json.dump(temp_dict, f, ensure_ascii=False, indent=4)"
   ]
  }
 ],
 "metadata": {
  "colab": {
   "authorship_tag": "ABX9TyNp5ErbaYuvUng9QMjSDv4b",
   "mount_file_id": "1WqKBKKSntcYkXUITP8fZEivuKsjBrkUG",
   "provenance": []
  },
  "kernelspec": {
   "display_name": "Python 3 (ipykernel)",
   "language": "python",
   "name": "python3"
  },
  "language_info": {
   "codemirror_mode": {
    "name": "ipython",
    "version": 3
   },
   "file_extension": ".py",
   "mimetype": "text/x-python",
   "name": "python",
   "nbconvert_exporter": "python",
   "pygments_lexer": "ipython3",
   "version": "3.11.0"
  }
 },
 "nbformat": 4,
 "nbformat_minor": 4
}
